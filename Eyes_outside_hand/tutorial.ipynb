{
 "cells": [
  {
   "cell_type": "markdown",
   "metadata": {},
   "source": [
    "# Examples\n",
    "\n",
    "This notebooks holds the examples from the paper `Taming the Panda with Python`."
   ]
  },
  {
   "cell_type": "code",
   "execution_count": 9,
   "metadata": {
    "ExecuteTime": {
     "end_time": "2025-03-19T09:54:20.798587Z",
     "start_time": "2025-03-19T09:54:20.794223Z"
    }
   },
   "outputs": [],
   "source": [
    "# Panda hostname/IP and Desk login information of your robot\n",
    "hostname = '192.168.1.100'\n",
    "\n",
    "# panda-py is chatty, activate information log level\n",
    "import logging\n",
    "logging.basicConfig(level=logging.INFO)"
   ]
  },
  {
   "cell_type": "markdown",
   "metadata": {},
   "source": [
    "## Code Block 1\n",
    "\n",
    "Use the Desk client to connect to the web-application running on the control unit to unlock the brakes and activate the Franka Research Interface (FCI) for robot torque control."
   ]
  },
  {
   "cell_type": "code",
   "execution_count": 10,
   "metadata": {
    "ExecuteTime": {
     "end_time": "2025-03-19T09:54:23.375527Z",
     "start_time": "2025-03-19T09:54:23.289057Z"
    }
   },
   "outputs": [],
   "source": [
    "import panda_py\n",
    "# desk.unlock()\n",
    "# desk.activate_fci()"
   ]
  },
  {
   "cell_type": "markdown",
   "metadata": {},
   "source": [
    "## Code Block 2\n",
    "\n",
    "Connect to the robot using the Panda class. The default gripper from Franka Emika does not support real-time control and can be controlled using the libfranka bindings directly."
   ]
  },
  {
   "cell_type": "code",
   "execution_count": 3,
   "metadata": {
    "ExecuteTime": {
     "end_time": "2025-03-19T00:54:30.137077Z",
     "start_time": "2025-03-19T00:54:30.121501Z"
    }
   },
   "outputs": [
    {
     "ename": "ConnectionError",
     "evalue": "",
     "output_type": "error",
     "traceback": [
      "\u001b[0;31m---------------------------------------------------------------------------\u001b[0m",
      "\u001b[0;31mConnectionError\u001b[0m                           Traceback (most recent call last)",
      "Cell \u001b[0;32mIn[3], line 1\u001b[0m\n\u001b[0;32m----> 1\u001b[0m \u001b[43mdesk\u001b[49m\u001b[38;5;241;43m.\u001b[39;49m\u001b[43mlock\u001b[49m\u001b[43m(\u001b[49m\u001b[43m)\u001b[49m\n",
      "File \u001b[0;32m~/code/shouyanbiaoding/test/panda_py/__init__.py:124\u001b[0m, in \u001b[0;36mDesk.lock\u001b[0;34m(self, force)\u001b[0m\n\u001b[1;32m    121\u001b[0m \u001b[38;5;28;01melif\u001b[39;00m \u001b[38;5;28mself\u001b[39m\u001b[38;5;241m.\u001b[39m_platform \u001b[38;5;241m==\u001b[39m \u001b[38;5;124m'\u001b[39m\u001b[38;5;124mfr3\u001b[39m\u001b[38;5;124m'\u001b[39m:\n\u001b[1;32m    122\u001b[0m   url \u001b[38;5;241m=\u001b[39m \u001b[38;5;124m'\u001b[39m\u001b[38;5;124m/desk/api/joints/lock\u001b[39m\u001b[38;5;124m'\u001b[39m\n\u001b[0;32m--> 124\u001b[0m \u001b[38;5;28;43mself\u001b[39;49m\u001b[38;5;241;43m.\u001b[39;49m\u001b[43m_request\u001b[49m\u001b[43m(\u001b[49m\u001b[38;5;124;43m'\u001b[39;49m\u001b[38;5;124;43mpost\u001b[39;49m\u001b[38;5;124;43m'\u001b[39;49m\u001b[43m,\u001b[49m\u001b[43m \u001b[49m\u001b[43murl\u001b[49m\u001b[43m,\u001b[49m\u001b[43m \u001b[49m\u001b[43mfiles\u001b[49m\u001b[38;5;241;43m=\u001b[39;49m\u001b[43m{\u001b[49m\u001b[38;5;124;43m'\u001b[39;49m\u001b[38;5;124;43mforce\u001b[39;49m\u001b[38;5;124;43m'\u001b[39;49m\u001b[43m:\u001b[49m\u001b[43m \u001b[49m\u001b[43mforce\u001b[49m\u001b[43m}\u001b[49m\u001b[43m)\u001b[49m\n",
      "File \u001b[0;32m~/code/shouyanbiaoding/test/panda_py/__init__.py:334\u001b[0m, in \u001b[0;36mDesk._request\u001b[0;34m(self, method, url, json, headers, files)\u001b[0m\n\u001b[1;32m    328\u001b[0m response: requests\u001b[38;5;241m.\u001b[39mResponse \u001b[38;5;241m=\u001b[39m fun(parse\u001b[38;5;241m.\u001b[39murljoin(\u001b[38;5;124mf\u001b[39m\u001b[38;5;124m'\u001b[39m\u001b[38;5;124mhttps://\u001b[39m\u001b[38;5;132;01m{\u001b[39;00m\u001b[38;5;28mself\u001b[39m\u001b[38;5;241m.\u001b[39m_hostname\u001b[38;5;132;01m}\u001b[39;00m\u001b[38;5;124m'\u001b[39m,\n\u001b[1;32m    329\u001b[0m                                                 url),\n\u001b[1;32m    330\u001b[0m                                   json\u001b[38;5;241m=\u001b[39mjson,\n\u001b[1;32m    331\u001b[0m                                   headers\u001b[38;5;241m=\u001b[39mheaders,\n\u001b[1;32m    332\u001b[0m                                   files\u001b[38;5;241m=\u001b[39mfiles)\n\u001b[1;32m    333\u001b[0m \u001b[38;5;28;01mif\u001b[39;00m response\u001b[38;5;241m.\u001b[39mstatus_code \u001b[38;5;241m!=\u001b[39m \u001b[38;5;241m200\u001b[39m:\n\u001b[0;32m--> 334\u001b[0m   \u001b[38;5;28;01mraise\u001b[39;00m \u001b[38;5;167;01mConnectionError\u001b[39;00m(response\u001b[38;5;241m.\u001b[39mtext)\n\u001b[1;32m    335\u001b[0m \u001b[38;5;28;01mreturn\u001b[39;00m response\n",
      "\u001b[0;31mConnectionError\u001b[0m: "
     ]
    }
   ],
   "source": [
    "# desk.lock()"
   ]
  },
  {
   "cell_type": "code",
   "execution_count": 11,
   "metadata": {
    "ExecuteTime": {
     "end_time": "2025-03-19T09:54:31.781953Z",
     "start_time": "2025-03-19T09:54:31.772198Z"
    }
   },
   "outputs": [
    {
     "name": "stderr",
     "output_type": "stream",
     "text": [
      "INFO:panda:Connected to robot (192.168.1.100).\n",
      "INFO:panda:Panda class destructor invoked (192.168.1.100).\n",
      "INFO:panda:Stopping active controller (JointTrajectory).\n"
     ]
    }
   ],
   "source": [
    "from panda_py import libfranka\n",
    "\n",
    "panda = panda_py.Panda(hostname)\n",
    "gripper = libfranka.Gripper(hostname)"
   ]
  },
  {
   "cell_type": "markdown",
   "metadata": {},
   "source": [
    "## Code Block 3\n",
    "\n",
    "Simple motion generation in joint space. The call to `get_pose` produces a $4\\times 4$ matrix representing the homogeneous transform from robot base to end-effector. The indices $2,3$ refer to third row and fourth column respectively, i.e. the z-coordinate. The position in z is lowered by $0.1\\mathrm{m}$ and passed to the inverse kinematics function to produce joint positions. Finally the call to `move_to_joint_position` generates a motion from the current to the desired joint potions."
   ]
  },
  {
   "cell_type": "code",
   "execution_count": 13,
   "metadata": {},
   "outputs": [
    {
     "name": "stderr",
     "output_type": "stream",
     "text": [
      "INFO:panda:Stopping active controller (JointTrajectory).\n",
      "INFO:panda:Initializing motion generation (moveToJointPosition).\n",
      "INFO:motion:Computed joint trajectory: 1 waypoint, duration 0.80 seconds.\n",
      "INFO:panda:Starting new controller (JointTrajectory).\n",
      "INFO:panda:Stopping active controller (JointTrajectory).\n",
      "INFO:panda:Initializing motion generation (moveToJointPosition).\n",
      "INFO:motion:Computed joint trajectory: 1 waypoint, duration 0.80 seconds.\n",
      "INFO:panda:Starting new controller (JointTrajectory).\n"
     ]
    },
    {
     "data": {
      "text/plain": [
       "True"
      ]
     },
     "execution_count": 13,
     "metadata": {},
     "output_type": "execute_result"
    }
   ],
   "source": [
    "panda.move_to_start()\n",
    "pose = panda.get_pose()\n",
    "pose[2,3] -= .1\n",
    "q = panda_py.ik(pose)\n",
    "panda.move_to_joint_position(q)"
   ]
  },
  {
   "cell_type": "code",
   "execution_count": 5,
   "metadata": {},
   "outputs": [
    {
     "name": "stdout",
     "output_type": "stream",
     "text": [
      "pose:  [[ 9.99957625e-01  8.76761019e-03  2.80050806e-03  3.07496742e-01]\n",
      " [ 8.77175227e-03 -9.99960430e-01 -1.47020513e-03 -2.77294982e-04]\n",
      " [ 2.78750706e-03  1.49470819e-03 -9.99994998e-01  3.87296015e-01]\n",
      " [ 0.00000000e+00  0.00000000e+00  0.00000000e+00  1.00000000e+00]]\n"
     ]
    }
   ],
   "source": [
    "print (\"pose: \", pose)"
   ]
  },
  {
   "cell_type": "markdown",
   "metadata": {},
   "source": [
    "## Code Block 4\n",
    "\n",
    "Simple motion generation in Cartesian space. The z-coordinate of the current end-effector pose is lowered by $0.1\\mathrm{m}$ as in Code Block 3. However the resulting pose is passed directly to `move_to_pose` to produce a motion in Cartesian space."
   ]
  },
  {
   "cell_type": "code",
   "execution_count": 2,
   "metadata": {},
   "outputs": [
    {
     "ename": "NameError",
     "evalue": "name 'panda' is not defined",
     "output_type": "error",
     "traceback": [
      "\u001b[0;31m---------------------------------------------------------------------------\u001b[0m",
      "\u001b[0;31mNameError\u001b[0m                                 Traceback (most recent call last)",
      "Cell \u001b[0;32mIn[2], line 1\u001b[0m\n\u001b[0;32m----> 1\u001b[0m \u001b[43mpanda\u001b[49m\u001b[38;5;241m.\u001b[39mmove_to_start()\n\u001b[1;32m      2\u001b[0m panda\u001b[38;5;241m.\u001b[39mget_state()\n\u001b[1;32m      4\u001b[0m \u001b[38;5;28mprint\u001b[39m(panda\u001b[38;5;241m.\u001b[39mget_state())\n",
      "\u001b[0;31mNameError\u001b[0m: name 'panda' is not defined"
     ]
    }
   ],
   "source": [
    "panda.move_to_start()\n",
    "panda.get_state()\n",
    "\n",
    "print(panda.get_state())\n",
    "\n",
    "pose = panda.get_pose()\n",
    "print(pose)\n",
    "pose[2,3] -= .3\n",
    "panda.move_to_pose(pose)\n",
    "print(panda.get_pose())"
   ]
  },
  {
   "cell_type": "code",
   "execution_count": null,
   "metadata": {},
   "outputs": [],
   "source": [
    "print(panda.get_position())"
   ]
  },
  {
   "cell_type": "markdown",
   "metadata": {},
   "source": [
    "## Inline Examples\n",
    "\n",
    "Various short examples used inline."
   ]
  },
  {
   "cell_type": "code",
   "execution_count": null,
   "metadata": {},
   "outputs": [],
   "source": [
    "print(panda.get_state())\n",
    "print(panda.get_model())\n",
    "gripper.grasp(0, 0.2, 10, 0.04, 0.04)\n",
    "gripper.move(0.08, 0.2)"
   ]
  },
  {
   "cell_type": "markdown",
   "metadata": {},
   "source": [
    "## Code Block 5\n",
    "\n",
    "Using the integrated logging mechanism, the libfranka `RobotState` can be logged at a frequency of $1\\mathrm{kHz}$. This example creates two end-effector poses `T_0` and `T_1` based on the starting pose, displaced $0.25\\mathrm{m}$ to the left and right respectively. Before a motion is generated between these poses, logging is enabled for this Panda instance (line 9). The enable logging function takes the buffer size in number of steps as argument. As such, $2e3$ steps at $1\\mathrm{kHz}$ correspond to a buffer holding the state of the past 2 seconds. After the motion is finished, logging is disabled and the buffer retrieved (line 14)."
   ]
  },
  {
   "cell_type": "code",
   "execution_count": null,
   "metadata": {},
   "outputs": [],
   "source": [
    "from panda_py import constants\n",
    "import numpy as np\n",
    "\n",
    "T_0 = panda_py.fk(constants.JOINT_POSITION_START)\n",
    "T_0[1, 3] = 0.25\n",
    "T_1 = T_0.copy()\n",
    "T_1[1, 3] = -0.25\n",
    "\n",
    "panda.move_to_pose(T_0)\n",
    "panda.enable_logging(40000)\n",
    "panda.move_to_pose(T_1,\n",
    "                   speed_factor=0.01,\n",
    "                   stiffness=2 * np.array([600, 600, 600, 600, 250, 150, 50]))\n",
    "panda.disable_logging()\n",
    "log = panda.get_log()\n",
    "\n",
    "panda.move_to_pose(T_0)\n",
    "panda.enable_logging(10000)\n",
    "panda.move_to_joint_position(panda_py.ik(T_1))\n",
    "panda.disable_logging()\n",
    "joint_log = panda.get_log()"
   ]
  },
  {
   "cell_type": "code",
   "execution_count": null,
   "metadata": {},
   "outputs": [],
   "source": [
    "from matplotlib import pyplot as plt\n",
    "\n",
    "def plot(O_T_EE, ax, title: str):\n",
    "  ax.plot(O_T_EE[:,13], O_T_EE[:,14])\n",
    "  ax.set_xlim(-0.3,0.3)\n",
    "  ax.set_ylim(0.25,0.75)\n",
    "  ax.set_xlabel('y (m)')\n",
    "  ax.set_ylabel('z (m)')\n",
    "  ax.grid(True)\n",
    "  ax.set_title(title)\n",
    "\n",
    "fig, (ax0, ax1) = plt.subplots(1, 2, figsize=(6,3))\n",
    "plot(np.array(log['O_T_EE']), ax0, 'Cartesian Motion Path')\n",
    "plot(np.array(joint_log['O_T_EE']), ax1, 'Joint Motion Path')\n",
    "fig.tight_layout()"
   ]
  },
  {
   "cell_type": "markdown",
   "metadata": {},
   "source": [
    "## Code Block 6\n",
    "\n",
    "Running a panda-py controller. After initializing the controller, the current position and orientation are stored in `x0` and `q0` respectively, where `q0` is a quaternion representation of the end-effector orientation. After starting the controller, a `PandaContext` is created from the Panda object (line 10). `PandaContext` is a convenient context manager that executes a loop at a fixed frequency for an optional amount of time. The call to `PandaContext.ok` throttles the loop and also raises any control exceptions that may have been raised by libfranka. Use of `PandaContext` is optional and users are free to manage the control flow how they wish. In this example a periodic linear displacement along the y-axis is added to the initial pose (line 13). This results in the end-effector moving periodically from left to right in straight lines.\n",
    "\n",
    "> **Info**\n",
    ">\n",
    "> This Code Block doesn't run well inside IPython notebooks and may not finish successfully. Please run the example located at `examples/cartesian_impedance.py` instead.\n"
   ]
  },
  {
   "cell_type": "markdown",
   "metadata": {},
   "source": [
    "## Code Block 7\n",
    "\n",
    "Code Block 7: Resolved rate controller with reactive manipulability maximization. This example is from the Robotics Toolbox for Python. To run it on the real hardware with panda-py requires only connecting the inputs and outputs of the control loop to panda-py, i.e., using the joint positions `Panda.q` and providing the control signal to `IntegrateVelocity.set control`. Additionally, the inequality constraints to avoid the joint limits were removed, as panda-py controllers already have integrated joint limit avoidance using impedance control.\n",
    "\n",
    "> **Info**\n",
    ">\n",
    "> This Code Block doesn't run well inside IPython notebooks and may not finish successfully. Please run the example located at `examples/mmc.py` instead."
   ]
  }
 ],
 "metadata": {
  "kernelspec": {
   "display_name": "Python 3 (ipykernel)",
   "language": "python",
   "name": "python3"
  },
  "language_info": {
   "codemirror_mode": {
    "name": "ipython",
    "version": 3
   },
   "file_extension": ".py",
   "mimetype": "text/x-python",
   "name": "python",
   "nbconvert_exporter": "python",
   "pygments_lexer": "ipython3",
   "version": "3.10.16"
  }
 },
 "nbformat": 4,
 "nbformat_minor": 4
}
