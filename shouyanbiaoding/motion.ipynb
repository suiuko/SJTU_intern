{
 "cells": [
  {
   "cell_type": "markdown",
   "metadata": {},
   "source": [
    "Motion Generation\n",
    "-----------------\n",
    "\n",
    "Import necessary Python packages. We are using spatialmath's SE3 module for convenient pose representation and manipulation and matplotlib for plotting."
   ]
  },
  {
   "cell_type": "code",
   "execution_count": 36,
   "metadata": {},
   "outputs": [],
   "source": [
    "import panda_py\n",
    "import numpy as np\n",
    "from matplotlib import pyplot as plt\n",
    "from spatialmath import SE3"
   ]
  },
  {
   "cell_type": "markdown",
   "metadata": {},
   "source": [
    "Move the robot to the start position and save the current end-effector pose in `T_0`. The default speed factors have been chosen so that most trajectories will be executed successfully with the default settings. The `Panda` class uses a joint impedance controller to follow the trajectories and you are free to increase the control gains for higher accuracy and speed factors for faster acceleration and velocities. However higher velocities and acceleration may result in libfranka triggering reflexes, this can be avoided by increasing the collision thresholds."
   ]
  },
  {
   "cell_type": "code",
   "execution_count": 37,
   "metadata": {},
   "outputs": [],
   "source": [
    "hostname = '192.168.1.100' # Your Panda IP or hostname\n",
    "panda = panda_py.Panda(hostname)\n",
    "panda.set_default_behavior() # Panda default collision thresholds\n",
    "panda.move_to_start()\n",
    "T_0 = SE3(panda.get_pose(), check=False)\n",
    "joint_speed_factor = 0.1\n",
    "cart_speed_factor = 0.1\n",
    "# stiffness = [600, 600, 600, 600, 250, 150, 50]\n",
    "stiffness = np.diag([600, 600, 600, 600, 250, 150])\n",
    "\n",
    "# Optionally set higher thresholds to execute fast trajectories\n",
    "panda.get_robot().set_collision_behavior(\n",
    "    [100.0, 100.0, 100.0, 100.0, 100.0, 100.0, 100.0],\n",
    "    [100.0, 100.0, 100.0, 100.0, 100.0, 100.0, 100.0],\n",
    "    [100.0, 100.0, 100.0, 100.0, 100.0, 100.0],\n",
    "    [100.0, 100.0, 100.0, 100.0, 100.0, 100.0])"
   ]
  },
  {
   "cell_type": "markdown",
   "metadata": {},
   "source": [
    "Add waypoints relative to the starting pose `T0`, i.e. move 20cm to left with a 45° rotation about x, move 20cm to the right with a rotation of -45° about x and back to the initial pose. These waypoints are executed using the joint and Cartesian motion generators each and the end-effector position log is written to a numpy array. The log uses the libfranka state and as such `O_T_EE` is a list of 16-vectors in column major format and reshaped to 4x4 matrices."
   ]
  },
  {
   "cell_type": "code",
   "execution_count": 38,
   "metadata": {},
   "outputs": [
    {
     "ename": "KeyboardInterrupt",
     "evalue": "",
     "output_type": "error",
     "traceback": [
      "\u001b[0;31m---------------------------------------------------------------------------\u001b[0m",
      "\u001b[0;31mKeyboardInterrupt\u001b[0m                         Traceback (most recent call last)",
      "Cell \u001b[0;32mIn[38], line 8\u001b[0m\n\u001b[1;32m      6\u001b[0m panda\u001b[38;5;241m.\u001b[39mmove_to_start()\n\u001b[1;32m      7\u001b[0m panda\u001b[38;5;241m.\u001b[39menable_logging(\u001b[38;5;241m30000\u001b[39m)  \u001b[38;5;66;03m# Logging up to 30k samples\u001b[39;00m\n\u001b[0;32m----> 8\u001b[0m \u001b[43mpanda\u001b[49m\u001b[38;5;241;43m.\u001b[39;49m\u001b[43mmove_to_pose\u001b[49m\u001b[43m(\u001b[49m\u001b[43mposes\u001b[49m\u001b[43m,\u001b[49m\u001b[43m \u001b[49m\u001b[43mspeed_factor\u001b[49m\u001b[38;5;241;43m=\u001b[39;49m\u001b[43mcart_speed_factor\u001b[49m\u001b[43m,\u001b[49m\u001b[43m \u001b[49m\u001b[43mimpedance\u001b[49m\u001b[38;5;241;43m=\u001b[39;49m\u001b[43mstiffness\u001b[49m\u001b[43m)\u001b[49m\n\u001b[1;32m      9\u001b[0m log_cart \u001b[38;5;241m=\u001b[39m np\u001b[38;5;241m.\u001b[39marray(panda\u001b[38;5;241m.\u001b[39mget_log()[\u001b[38;5;124m'\u001b[39m\u001b[38;5;124mO_T_EE\u001b[39m\u001b[38;5;124m'\u001b[39m])\n\u001b[1;32m     10\u001b[0m log_cart \u001b[38;5;241m=\u001b[39m log_cart\u001b[38;5;241m.\u001b[39mreshape((\u001b[38;5;241m-\u001b[39m\u001b[38;5;241m1\u001b[39m, \u001b[38;5;241m4\u001b[39m, \u001b[38;5;241m4\u001b[39m))\u001b[38;5;241m.\u001b[39mtranspose((\u001b[38;5;241m0\u001b[39m, \u001b[38;5;241m2\u001b[39m, \u001b[38;5;241m1\u001b[39m))\n",
      "File \u001b[0;32m~/anaconda3/lib/python3.10/logging/__init__.py:1496\u001b[0m, in \u001b[0;36mLogger.error\u001b[0;34m(self, msg, *args, **kwargs)\u001b[0m\n\u001b[1;32m   1492\u001b[0m     warnings\u001b[38;5;241m.\u001b[39mwarn(\u001b[38;5;124m\"\u001b[39m\u001b[38;5;124mThe \u001b[39m\u001b[38;5;124m'\u001b[39m\u001b[38;5;124mwarn\u001b[39m\u001b[38;5;124m'\u001b[39m\u001b[38;5;124m method is deprecated, \u001b[39m\u001b[38;5;124m\"\u001b[39m\n\u001b[1;32m   1493\u001b[0m         \u001b[38;5;124m\"\u001b[39m\u001b[38;5;124muse \u001b[39m\u001b[38;5;124m'\u001b[39m\u001b[38;5;124mwarning\u001b[39m\u001b[38;5;124m'\u001b[39m\u001b[38;5;124m instead\u001b[39m\u001b[38;5;124m\"\u001b[39m, \u001b[38;5;167;01mDeprecationWarning\u001b[39;00m, \u001b[38;5;241m2\u001b[39m)\n\u001b[1;32m   1494\u001b[0m     \u001b[38;5;28mself\u001b[39m\u001b[38;5;241m.\u001b[39mwarning(msg, \u001b[38;5;241m*\u001b[39margs, \u001b[38;5;241m*\u001b[39m\u001b[38;5;241m*\u001b[39mkwargs)\n\u001b[0;32m-> 1496\u001b[0m \u001b[38;5;28;01mdef\u001b[39;00m \u001b[38;5;21merror\u001b[39m(\u001b[38;5;28mself\u001b[39m, msg, \u001b[38;5;241m*\u001b[39margs, \u001b[38;5;241m*\u001b[39m\u001b[38;5;241m*\u001b[39mkwargs):\n\u001b[1;32m   1497\u001b[0m \u001b[38;5;250m    \u001b[39m\u001b[38;5;124;03m\"\"\"\u001b[39;00m\n\u001b[1;32m   1498\u001b[0m \u001b[38;5;124;03m    Log 'msg % args' with severity 'ERROR'.\u001b[39;00m\n\u001b[1;32m   1499\u001b[0m \n\u001b[0;32m   (...)\u001b[0m\n\u001b[1;32m   1503\u001b[0m \u001b[38;5;124;03m    logger.error(\"Houston, we have a %s\", \"major problem\", exc_info=1)\u001b[39;00m\n\u001b[1;32m   1504\u001b[0m \u001b[38;5;124;03m    \"\"\"\u001b[39;00m\n\u001b[1;32m   1505\u001b[0m     \u001b[38;5;28;01mif\u001b[39;00m \u001b[38;5;28mself\u001b[39m\u001b[38;5;241m.\u001b[39misEnabledFor(ERROR):\n",
      "\u001b[0;31mKeyboardInterrupt\u001b[0m: "
     ]
    }
   ],
   "source": [
    "poses = []\n",
    "poses.append(SE3.Trans(0, 0.2, 0) * T_0 * SE3.Rx(np.pi / 4))\n",
    "poses.append(SE3.Trans(0, -0.2, 0) * T_0 * SE3.Rx(-np.pi / 4))\n",
    "poses.append(T_0)\n",
    "\n",
    "panda.move_to_start()\n",
    "panda.enable_logging(30000)  # Logging up to 30k samples\n",
    "panda.move_to_pose(poses, speed_factor=cart_speed_factor, stiffness=stiffness)\n",
    "log_cart = np.array(panda.get_log()['O_T_EE'])\n",
    "log_cart = log_cart.reshape((-1, 4, 4)).transpose((0, 2, 1))\n",
    "panda.disable_logging()\n",
    "\n",
    "qs = [panda_py.ik(T) for T in poses]\n",
    "\n",
    "panda.move_to_start()\n",
    "panda.enable_logging(30000)  # Logging up to 30k samples\n",
    "panda.move_to_joint_position(qs,\n",
    "                             speed_factor=joint_speed_factor,\n",
    "                             stiffness=stiffness)\n",
    "log_joint = np.array(panda.get_log()['O_T_EE'])\n",
    "log_joint = log_joint.reshape((-1, 4, 4)).transpose((0, 2, 1))\n",
    "panda.disable_logging()"
   ]
  },
  {
   "cell_type": "markdown",
   "metadata": {},
   "source": [
    "Plot the logged end-effector motion in the YZ-plane. Note how the joint motion does not follow a piece-wise linear path between the waypoints in Cartesian space."
   ]
  },
  {
   "cell_type": "code",
   "execution_count": 18,
   "metadata": {},
   "outputs": [
    {
     "ename": "NameError",
     "evalue": "name 'log_joint' is not defined",
     "output_type": "error",
     "traceback": [
      "\u001b[0;31m---------------------------------------------------------------------------\u001b[0m",
      "\u001b[0;31mNameError\u001b[0m                                 Traceback (most recent call last)",
      "Cell \u001b[0;32mIn[18], line 3\u001b[0m\n\u001b[1;32m      1\u001b[0m fig, (ax0, ax1) \u001b[38;5;241m=\u001b[39m plt\u001b[38;5;241m.\u001b[39msubplots(\u001b[38;5;241m1\u001b[39m, \u001b[38;5;241m2\u001b[39m, figsize\u001b[38;5;241m=\u001b[39m(\u001b[38;5;241m5\u001b[39m,\u001b[38;5;241m3\u001b[39m))\n\u001b[0;32m----> 3\u001b[0m ax0\u001b[38;5;241m.\u001b[39mplot(\u001b[43mlog_joint\u001b[49m[:,\u001b[38;5;241m1\u001b[39m,\u001b[38;5;241m3\u001b[39m], log_joint[:,\u001b[38;5;241m2\u001b[39m,\u001b[38;5;241m3\u001b[39m])\n\u001b[1;32m      4\u001b[0m ax0\u001b[38;5;241m.\u001b[39mgrid(\u001b[38;5;28;01mTrue\u001b[39;00m)\n\u001b[1;32m      5\u001b[0m ax0\u001b[38;5;241m.\u001b[39mset_ylim(\u001b[38;5;241m0.4\u001b[39m, \u001b[38;5;241m0.6\u001b[39m)\n",
      "\u001b[0;31mNameError\u001b[0m: name 'log_joint' is not defined"
     ]
    },
    {
     "data": {
      "image/png": "[encoded data removed]",
      "text/plain": [
       "<Figure size 500x300 with 2 Axes>"
      ]
     },
     "metadata": {},
     "output_type": "display_data"
    }
   ],
   "source": [
    "fig, (ax0, ax1) = plt.subplots(1, 2, figsize=(5,3))\n",
    "\n",
    "ax0.plot(log_joint[:,1,3], log_joint[:,2,3])\n",
    "ax0.grid(True)\n",
    "ax0.set_ylim(0.4, 0.6)\n",
    "ax0.set_title('Joint Motion')\n",
    "ax0.set_xlabel('y (m)')\n",
    "ax0.set_ylabel('z (m)')\n",
    "ax1.plot(log_cart[:,1,3], log_cart[:,2,3])\n",
    "ax1.grid(True)\n",
    "ax1.set_ylim(0.4, 0.6)\n",
    "ax1.set_title('Cartesian Motion')\n",
    "ax0.set_xlabel('y (m)')\n",
    "ax0.set_ylabel('z (m)')\n",
    "fig.tight_layout()"
   ]
  },
  {
   "cell_type": "code",
   "execution_count": null,
   "metadata": {},
   "outputs": [],
   "source": []
  }
 ],
 "metadata": {
  "kernelspec": {
   "display_name": "Python 3 (ipykernel)",
   "language": "python",
   "name": "python3"
  },
  "language_info": {
   "codemirror_mode": {
    "name": "ipython",
    "version": 3
   },
   "file_extension": ".py",
   "mimetype": "text/x-python",
   "name": "python",
   "nbconvert_exporter": "python",
   "pygments_lexer": "ipython3",
   "version": "3.10.16"
  }
 },
 "nbformat": 4,
 "nbformat_minor": 4
}
